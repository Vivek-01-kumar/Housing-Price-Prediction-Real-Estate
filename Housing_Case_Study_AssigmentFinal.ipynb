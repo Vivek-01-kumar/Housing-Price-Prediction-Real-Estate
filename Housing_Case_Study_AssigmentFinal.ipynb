{
 "cells": [
  {
   "cell_type": "markdown",
   "id": "hDX3GkJRLRY2",
   "metadata": {
    "id": "hDX3GkJRLRY2"
   },
   "source": [
    "### Problem Statement\n",
    "\n",
    "*Predicting housing prices is of interest to potential buyers, sellers, and organizations alike. Multiple online platforms offer, for example, a free “price estimate” based on underlying machine learning models. For this assignment, we are going to build the best machine learning model we can for Ames, Iowa. The data set consists of 79 features that describe the quality and quantity of the properties to base our predictions on.*"
   ]
  },
  {
   "cell_type": "markdown",
   "id": "59e29495",
   "metadata": {
    "id": "59e29495"
   },
   "source": [
    "# Task 0: Data Preperation\n",
    "\n",
    "*Note: No code has to be written for the 5 cells below - you may just execute them sequentially. After this, you may move on to **Task 1** on understanding the data.*"
   ]
  },
  {
   "cell_type": "code",
   "execution_count": 215,
   "id": "42b87c95",
   "metadata": {
    "id": "42b87c95"
   },
   "outputs": [],
   "source": [
    "import pandas as pd\n",
    "import numpy as np\n",
    "from matplotlib import pyplot as plt\n",
    "import seaborn as sns\n",
    "\n",
    "from sklearn.model_selection import train_test_split\n",
    "from sklearn.preprocessing import StandardScaler\n",
    "from sklearn.model_selection import GridSearchCV\n",
    "from sklearn.metrics import f1_score, precision_score, recall_score, accuracy_score, mean_squared_error\n",
    "from sklearn.metrics import confusion_matrix, ConfusionMatrixDisplay\n",
    "from sklearn.neighbors import KNeighborsClassifier, KNeighborsRegressor\n",
    "from sklearn.linear_model import Lasso, LassoCV, LogisticRegression\n",
    "from sklearn.tree import DecisionTreeClassifier, DecisionTreeRegressor\n",
    "\n",
    "from scipy.stats import pearsonr"
   ]
  },
  {
   "cell_type": "code",
   "execution_count": 216,
   "id": "18e422c0",
   "metadata": {
    "id": "18e422c0"
   },
   "outputs": [
    {
     "data": {
      "text/html": [
       "<div>\n",
       "<style scoped>\n",
       "    .dataframe tbody tr th:only-of-type {\n",
       "        vertical-align: middle;\n",
       "    }\n",
       "\n",
       "    .dataframe tbody tr th {\n",
       "        vertical-align: top;\n",
       "    }\n",
       "\n",
       "    .dataframe thead th {\n",
       "        text-align: right;\n",
       "    }\n",
       "</style>\n",
       "<table border=\"1\" class=\"dataframe\">\n",
       "  <thead>\n",
       "    <tr style=\"text-align: right;\">\n",
       "      <th></th>\n",
       "      <th>MS SubClass</th>\n",
       "      <th>MS Zoning</th>\n",
       "      <th>Lot Frontage</th>\n",
       "      <th>Lot Area</th>\n",
       "      <th>Street</th>\n",
       "      <th>Alley</th>\n",
       "      <th>Lot Shape</th>\n",
       "      <th>Land Contour</th>\n",
       "      <th>Lot Config</th>\n",
       "      <th>Land Slope</th>\n",
       "      <th>...</th>\n",
       "      <th>Pool Area</th>\n",
       "      <th>Pool QC</th>\n",
       "      <th>Fence</th>\n",
       "      <th>Misc Feature</th>\n",
       "      <th>Misc Val</th>\n",
       "      <th>Mo Sold</th>\n",
       "      <th>Yr Sold</th>\n",
       "      <th>Sale Type</th>\n",
       "      <th>Sale Condition</th>\n",
       "      <th>SalePrice</th>\n",
       "    </tr>\n",
       "    <tr>\n",
       "      <th>PID</th>\n",
       "      <th></th>\n",
       "      <th></th>\n",
       "      <th></th>\n",
       "      <th></th>\n",
       "      <th></th>\n",
       "      <th></th>\n",
       "      <th></th>\n",
       "      <th></th>\n",
       "      <th></th>\n",
       "      <th></th>\n",
       "      <th></th>\n",
       "      <th></th>\n",
       "      <th></th>\n",
       "      <th></th>\n",
       "      <th></th>\n",
       "      <th></th>\n",
       "      <th></th>\n",
       "      <th></th>\n",
       "      <th></th>\n",
       "      <th></th>\n",
       "      <th></th>\n",
       "    </tr>\n",
       "  </thead>\n",
       "  <tbody>\n",
       "    <tr>\n",
       "      <th>526301100</th>\n",
       "      <td>20</td>\n",
       "      <td>RL</td>\n",
       "      <td>141.0</td>\n",
       "      <td>31770</td>\n",
       "      <td>Pave</td>\n",
       "      <td>None</td>\n",
       "      <td>IR1</td>\n",
       "      <td>Lvl</td>\n",
       "      <td>Corner</td>\n",
       "      <td>Gtl</td>\n",
       "      <td>...</td>\n",
       "      <td>0</td>\n",
       "      <td>None</td>\n",
       "      <td>None</td>\n",
       "      <td>None</td>\n",
       "      <td>0</td>\n",
       "      <td>5</td>\n",
       "      <td>2010</td>\n",
       "      <td>WD</td>\n",
       "      <td>Normal</td>\n",
       "      <td>215000</td>\n",
       "    </tr>\n",
       "    <tr>\n",
       "      <th>526350040</th>\n",
       "      <td>20</td>\n",
       "      <td>RH</td>\n",
       "      <td>80.0</td>\n",
       "      <td>11622</td>\n",
       "      <td>Pave</td>\n",
       "      <td>None</td>\n",
       "      <td>Reg</td>\n",
       "      <td>Lvl</td>\n",
       "      <td>Inside</td>\n",
       "      <td>Gtl</td>\n",
       "      <td>...</td>\n",
       "      <td>0</td>\n",
       "      <td>None</td>\n",
       "      <td>MnPrv</td>\n",
       "      <td>None</td>\n",
       "      <td>0</td>\n",
       "      <td>6</td>\n",
       "      <td>2010</td>\n",
       "      <td>WD</td>\n",
       "      <td>Normal</td>\n",
       "      <td>105000</td>\n",
       "    </tr>\n",
       "    <tr>\n",
       "      <th>526351010</th>\n",
       "      <td>20</td>\n",
       "      <td>RL</td>\n",
       "      <td>81.0</td>\n",
       "      <td>14267</td>\n",
       "      <td>Pave</td>\n",
       "      <td>None</td>\n",
       "      <td>IR1</td>\n",
       "      <td>Lvl</td>\n",
       "      <td>Corner</td>\n",
       "      <td>Gtl</td>\n",
       "      <td>...</td>\n",
       "      <td>0</td>\n",
       "      <td>None</td>\n",
       "      <td>None</td>\n",
       "      <td>Gar2</td>\n",
       "      <td>12500</td>\n",
       "      <td>6</td>\n",
       "      <td>2010</td>\n",
       "      <td>WD</td>\n",
       "      <td>Normal</td>\n",
       "      <td>172000</td>\n",
       "    </tr>\n",
       "    <tr>\n",
       "      <th>526353030</th>\n",
       "      <td>20</td>\n",
       "      <td>RL</td>\n",
       "      <td>93.0</td>\n",
       "      <td>11160</td>\n",
       "      <td>Pave</td>\n",
       "      <td>None</td>\n",
       "      <td>Reg</td>\n",
       "      <td>Lvl</td>\n",
       "      <td>Corner</td>\n",
       "      <td>Gtl</td>\n",
       "      <td>...</td>\n",
       "      <td>0</td>\n",
       "      <td>None</td>\n",
       "      <td>None</td>\n",
       "      <td>None</td>\n",
       "      <td>0</td>\n",
       "      <td>4</td>\n",
       "      <td>2010</td>\n",
       "      <td>WD</td>\n",
       "      <td>Normal</td>\n",
       "      <td>244000</td>\n",
       "    </tr>\n",
       "    <tr>\n",
       "      <th>527105010</th>\n",
       "      <td>60</td>\n",
       "      <td>RL</td>\n",
       "      <td>74.0</td>\n",
       "      <td>13830</td>\n",
       "      <td>Pave</td>\n",
       "      <td>None</td>\n",
       "      <td>IR1</td>\n",
       "      <td>Lvl</td>\n",
       "      <td>Inside</td>\n",
       "      <td>Gtl</td>\n",
       "      <td>...</td>\n",
       "      <td>0</td>\n",
       "      <td>None</td>\n",
       "      <td>MnPrv</td>\n",
       "      <td>None</td>\n",
       "      <td>0</td>\n",
       "      <td>3</td>\n",
       "      <td>2010</td>\n",
       "      <td>WD</td>\n",
       "      <td>Normal</td>\n",
       "      <td>189900</td>\n",
       "    </tr>\n",
       "  </tbody>\n",
       "</table>\n",
       "<p>5 rows × 79 columns</p>\n",
       "</div>"
      ],
      "text/plain": [
       "           MS SubClass MS Zoning  Lot Frontage  Lot Area Street Alley  \\\n",
       "PID                                                                     \n",
       "526301100           20        RL         141.0     31770   Pave  None   \n",
       "526350040           20        RH          80.0     11622   Pave  None   \n",
       "526351010           20        RL          81.0     14267   Pave  None   \n",
       "526353030           20        RL          93.0     11160   Pave  None   \n",
       "527105010           60        RL          74.0     13830   Pave  None   \n",
       "\n",
       "          Lot Shape Land Contour Lot Config Land Slope  ... Pool Area Pool QC  \\\n",
       "PID                                                     ...                     \n",
       "526301100       IR1          Lvl     Corner        Gtl  ...         0    None   \n",
       "526350040       Reg          Lvl     Inside        Gtl  ...         0    None   \n",
       "526351010       IR1          Lvl     Corner        Gtl  ...         0    None   \n",
       "526353030       Reg          Lvl     Corner        Gtl  ...         0    None   \n",
       "527105010       IR1          Lvl     Inside        Gtl  ...         0    None   \n",
       "\n",
       "           Fence Misc Feature Misc Val  Mo Sold  Yr Sold  Sale Type  \\\n",
       "PID                                                                   \n",
       "526301100   None         None        0        5     2010        WD    \n",
       "526350040  MnPrv         None        0        6     2010        WD    \n",
       "526351010   None         Gar2    12500        6     2010        WD    \n",
       "526353030   None         None        0        4     2010        WD    \n",
       "527105010  MnPrv         None        0        3     2010        WD    \n",
       "\n",
       "           Sale Condition SalePrice  \n",
       "PID                                  \n",
       "526301100          Normal    215000  \n",
       "526350040          Normal    105000  \n",
       "526351010          Normal    172000  \n",
       "526353030          Normal    244000  \n",
       "527105010          Normal    189900  \n",
       "\n",
       "[5 rows x 79 columns]"
      ]
     },
     "execution_count": 216,
     "metadata": {},
     "output_type": "execute_result"
    }
   ],
   "source": [
    "# All missing data removed/cleaned\n",
    "housing_df = pd.read_csv(r'D:\\Graded\\ames_data_no_missing.csv', index_col=0)\n",
    "housing_df.head()"
   ]
  },
  {
   "cell_type": "code",
   "execution_count": 217,
   "id": "29b5c4ad",
   "metadata": {
    "id": "29b5c4ad"
   },
   "outputs": [
    {
     "data": {
      "text/plain": [
       "279"
      ]
     },
     "execution_count": 217,
     "metadata": {},
     "output_type": "execute_result"
    }
   ],
   "source": [
    "#Check the number of dummies to be created\n",
    "count = [housing_df[col].nunique() for col in housing_df.columns if housing_df[col].dtype==object]\n",
    "sum(count)"
   ]
  },
  {
   "cell_type": "code",
   "execution_count": 218,
   "id": "4c3a6082",
   "metadata": {
    "id": "4c3a6082"
   },
   "outputs": [],
   "source": [
    "# ensure Python reads the categorical variables as categorical\n",
    "for column in housing_df.columns:\n",
    "    if housing_df[column].dtype == 'object':\n",
    "        housing_df[column] = pd.Categorical(housing_df[column])"
   ]
  },
  {
   "cell_type": "code",
   "execution_count": 219,
   "id": "2df2b78f",
   "metadata": {
    "id": "2df2b78f"
   },
   "outputs": [],
   "source": [
    "#define our RMSE function\n",
    "def rmse(y_train, y_pred):\n",
    "    return np.sqrt(mean_squared_error(y_train, y_pred))"
   ]
  },
  {
   "cell_type": "markdown",
   "id": "fd91c10f",
   "metadata": {
    "id": "fd91c10f"
   },
   "source": [
    "\n",
    "# Task 1: Understand the Data\n",
    "*Take some time to familiarize yourself with the data. It contains information about housing prices in Ames. What are the key variables?*\n",
    "\n",
    "*You may perform any additional EDA if necessary.*"
   ]
  },
  {
   "cell_type": "markdown",
   "id": "ec6227ca",
   "metadata": {
    "id": "ec6227ca"
   },
   "source": [
    "### 1.1\n",
    "*What is the distribution of housing prices?*"
   ]
  },
  {
   "cell_type": "code",
   "execution_count": 220,
   "id": "b51547a8",
   "metadata": {
    "id": "b51547a8"
   },
   "outputs": [
    {
     "data": {
      "image/png": "[encoded data removed]",
      "text/plain": [
       "<Figure size 432x288 with 1 Axes>"
      ]
     },
     "metadata": {
      "needs_background": "light"
     },
     "output_type": "display_data"
    }
   ],
   "source": [
    "# The original distribution\n",
    "housing_prices = \"SalePrice\"\n",
    "data, housing = housing_df.drop(columns=housing_prices), housing_df[housing_prices]\n",
    "housing.head() \n",
    "# plotting a histogram\n",
    "housing.plot.hist(bins=20, edgecolor=\"black\")\n",
    "plt.xlabel(\"Sale Price\")\n",
    "plt.show()"
   ]
  },
  {
   "cell_type": "markdown",
   "id": "560316fd",
   "metadata": {
    "id": "560316fd"
   },
   "source": [
    "### 1.2\n",
    "*What is the variable that has the highest correlation with Housing prices? What are the key drivers behind larger house prices?*"
   ]
  },
  {
   "cell_type": "code",
   "execution_count": 221,
   "id": "GSxPyBkt1QgZ",
   "metadata": {
    "id": "GSxPyBkt1QgZ"
   },
   "outputs": [
    {
     "data": {
      "text/html": [
       "<div>\n",
       "<style scoped>\n",
       "    .dataframe tbody tr th:only-of-type {\n",
       "        vertical-align: middle;\n",
       "    }\n",
       "\n",
       "    .dataframe tbody tr th {\n",
       "        vertical-align: top;\n",
       "    }\n",
       "\n",
       "    .dataframe thead th {\n",
       "        text-align: right;\n",
       "    }\n",
       "</style>\n",
       "<table border=\"1\" class=\"dataframe\">\n",
       "  <thead>\n",
       "    <tr style=\"text-align: right;\">\n",
       "      <th></th>\n",
       "      <th>index</th>\n",
       "      <th>SalePrice</th>\n",
       "    </tr>\n",
       "  </thead>\n",
       "  <tbody>\n",
       "    <tr>\n",
       "      <th>0</th>\n",
       "      <td>SalePrice</td>\n",
       "      <td>1.000000</td>\n",
       "    </tr>\n",
       "    <tr>\n",
       "      <th>1</th>\n",
       "      <td>Overall Qual</td>\n",
       "      <td>0.799262</td>\n",
       "    </tr>\n",
       "    <tr>\n",
       "      <th>2</th>\n",
       "      <td>Gr Liv Area</td>\n",
       "      <td>0.706780</td>\n",
       "    </tr>\n",
       "    <tr>\n",
       "      <th>3</th>\n",
       "      <td>Garage Cars</td>\n",
       "      <td>0.647562</td>\n",
       "    </tr>\n",
       "    <tr>\n",
       "      <th>4</th>\n",
       "      <td>Garage Area</td>\n",
       "      <td>0.640138</td>\n",
       "    </tr>\n",
       "    <tr>\n",
       "      <th>5</th>\n",
       "      <td>Total Bsmt SF</td>\n",
       "      <td>0.632529</td>\n",
       "    </tr>\n",
       "    <tr>\n",
       "      <th>6</th>\n",
       "      <td>1st Flr SF</td>\n",
       "      <td>0.621676</td>\n",
       "    </tr>\n",
       "    <tr>\n",
       "      <th>7</th>\n",
       "      <td>Year Built</td>\n",
       "      <td>0.558426</td>\n",
       "    </tr>\n",
       "    <tr>\n",
       "      <th>8</th>\n",
       "      <td>Full Bath</td>\n",
       "      <td>0.545604</td>\n",
       "    </tr>\n",
       "    <tr>\n",
       "      <th>9</th>\n",
       "      <td>Year Remod/Add</td>\n",
       "      <td>0.532974</td>\n",
       "    </tr>\n",
       "    <tr>\n",
       "      <th>10</th>\n",
       "      <td>Mas Vnr Area</td>\n",
       "      <td>0.502196</td>\n",
       "    </tr>\n",
       "    <tr>\n",
       "      <th>11</th>\n",
       "      <td>TotRms AbvGrd</td>\n",
       "      <td>0.495474</td>\n",
       "    </tr>\n",
       "    <tr>\n",
       "      <th>12</th>\n",
       "      <td>Fireplaces</td>\n",
       "      <td>0.474558</td>\n",
       "    </tr>\n",
       "    <tr>\n",
       "      <th>13</th>\n",
       "      <td>BsmtFin SF 1</td>\n",
       "      <td>0.433147</td>\n",
       "    </tr>\n",
       "    <tr>\n",
       "      <th>14</th>\n",
       "      <td>Lot Frontage</td>\n",
       "      <td>0.340484</td>\n",
       "    </tr>\n",
       "    <tr>\n",
       "      <th>15</th>\n",
       "      <td>Wood Deck SF</td>\n",
       "      <td>0.327143</td>\n",
       "    </tr>\n",
       "    <tr>\n",
       "      <th>16</th>\n",
       "      <td>Open Porch SF</td>\n",
       "      <td>0.312951</td>\n",
       "    </tr>\n",
       "    <tr>\n",
       "      <th>17</th>\n",
       "      <td>Half Bath</td>\n",
       "      <td>0.285056</td>\n",
       "    </tr>\n",
       "    <tr>\n",
       "      <th>18</th>\n",
       "      <td>Bsmt Full Bath</td>\n",
       "      <td>0.275823</td>\n",
       "    </tr>\n",
       "    <tr>\n",
       "      <th>19</th>\n",
       "      <td>2nd Flr SF</td>\n",
       "      <td>0.269373</td>\n",
       "    </tr>\n",
       "    <tr>\n",
       "      <th>20</th>\n",
       "      <td>Lot Area</td>\n",
       "      <td>0.266549</td>\n",
       "    </tr>\n",
       "    <tr>\n",
       "      <th>21</th>\n",
       "      <td>Garage Yr Blt</td>\n",
       "      <td>0.253459</td>\n",
       "    </tr>\n",
       "    <tr>\n",
       "      <th>22</th>\n",
       "      <td>Bsmt Unf SF</td>\n",
       "      <td>0.183308</td>\n",
       "    </tr>\n",
       "    <tr>\n",
       "      <th>23</th>\n",
       "      <td>Bedroom AbvGr</td>\n",
       "      <td>0.143913</td>\n",
       "    </tr>\n",
       "    <tr>\n",
       "      <th>24</th>\n",
       "      <td>Screen Porch</td>\n",
       "      <td>0.112151</td>\n",
       "    </tr>\n",
       "    <tr>\n",
       "      <th>25</th>\n",
       "      <td>Pool Area</td>\n",
       "      <td>0.068403</td>\n",
       "    </tr>\n",
       "    <tr>\n",
       "      <th>26</th>\n",
       "      <td>Mo Sold</td>\n",
       "      <td>0.035259</td>\n",
       "    </tr>\n",
       "    <tr>\n",
       "      <th>27</th>\n",
       "      <td>3Ssn Porch</td>\n",
       "      <td>0.032225</td>\n",
       "    </tr>\n",
       "    <tr>\n",
       "      <th>28</th>\n",
       "      <td>BsmtFin SF 2</td>\n",
       "      <td>0.006018</td>\n",
       "    </tr>\n",
       "    <tr>\n",
       "      <th>29</th>\n",
       "      <td>Misc Val</td>\n",
       "      <td>-0.015691</td>\n",
       "    </tr>\n",
       "    <tr>\n",
       "      <th>30</th>\n",
       "      <td>Yr Sold</td>\n",
       "      <td>-0.030569</td>\n",
       "    </tr>\n",
       "    <tr>\n",
       "      <th>31</th>\n",
       "      <td>Bsmt Half Bath</td>\n",
       "      <td>-0.035817</td>\n",
       "    </tr>\n",
       "    <tr>\n",
       "      <th>32</th>\n",
       "      <td>Low Qual Fin SF</td>\n",
       "      <td>-0.037660</td>\n",
       "    </tr>\n",
       "    <tr>\n",
       "      <th>33</th>\n",
       "      <td>MS SubClass</td>\n",
       "      <td>-0.085092</td>\n",
       "    </tr>\n",
       "    <tr>\n",
       "      <th>34</th>\n",
       "      <td>Overall Cond</td>\n",
       "      <td>-0.101697</td>\n",
       "    </tr>\n",
       "    <tr>\n",
       "      <th>35</th>\n",
       "      <td>Kitchen AbvGr</td>\n",
       "      <td>-0.119814</td>\n",
       "    </tr>\n",
       "    <tr>\n",
       "      <th>36</th>\n",
       "      <td>Enclosed Porch</td>\n",
       "      <td>-0.128787</td>\n",
       "    </tr>\n",
       "  </tbody>\n",
       "</table>\n",
       "</div>"
      ],
      "text/plain": [
       "              index  SalePrice\n",
       "0         SalePrice   1.000000\n",
       "1      Overall Qual   0.799262\n",
       "2       Gr Liv Area   0.706780\n",
       "3       Garage Cars   0.647562\n",
       "4       Garage Area   0.640138\n",
       "5     Total Bsmt SF   0.632529\n",
       "6        1st Flr SF   0.621676\n",
       "7        Year Built   0.558426\n",
       "8         Full Bath   0.545604\n",
       "9    Year Remod/Add   0.532974\n",
       "10     Mas Vnr Area   0.502196\n",
       "11    TotRms AbvGrd   0.495474\n",
       "12       Fireplaces   0.474558\n",
       "13     BsmtFin SF 1   0.433147\n",
       "14     Lot Frontage   0.340484\n",
       "15     Wood Deck SF   0.327143\n",
       "16    Open Porch SF   0.312951\n",
       "17        Half Bath   0.285056\n",
       "18   Bsmt Full Bath   0.275823\n",
       "19       2nd Flr SF   0.269373\n",
       "20         Lot Area   0.266549\n",
       "21    Garage Yr Blt   0.253459\n",
       "22      Bsmt Unf SF   0.183308\n",
       "23    Bedroom AbvGr   0.143913\n",
       "24     Screen Porch   0.112151\n",
       "25        Pool Area   0.068403\n",
       "26          Mo Sold   0.035259\n",
       "27       3Ssn Porch   0.032225\n",
       "28     BsmtFin SF 2   0.006018\n",
       "29         Misc Val  -0.015691\n",
       "30          Yr Sold  -0.030569\n",
       "31   Bsmt Half Bath  -0.035817\n",
       "32  Low Qual Fin SF  -0.037660\n",
       "33      MS SubClass  -0.085092\n",
       "34     Overall Cond  -0.101697\n",
       "35    Kitchen AbvGr  -0.119814\n",
       "36   Enclosed Porch  -0.128787"
      ]
     },
     "execution_count": 221,
     "metadata": {},
     "output_type": "execute_result"
    }
   ],
   "source": [
    "#Find the correlations of all variables with SalePrice\n",
    "\n",
    "housing_corr = housing_df.corr()\n",
    "corr_df = pd.DataFrame(housing_df.corr()['SalePrice'].sort_values(ascending=False)).reset_index()\n",
    "corr_df\n"
   ]
  },
  {
   "cell_type": "markdown",
   "id": "25c98468",
   "metadata": {},
   "source": [
    "**As per the heatmap, the sale price has the highest correlation with Overall Quality in the housing. Secondly the biggest key driver of larger housing prices can be seen as the Groung Living area.**"
   ]
  },
  {
   "cell_type": "markdown",
   "id": "tnBw_QHBOZax",
   "metadata": {
    "id": "tnBw_QHBOZax"
   },
   "source": [
    "### 1.3\n",
    "*Create one additional visualization, that gives some insights into the data.*"
   ]
  },
  {
   "cell_type": "code",
   "execution_count": 222,
   "id": "360aa273",
   "metadata": {
    "id": "360aa273"
   },
   "outputs": [
    {
     "data": {
      "image/png": "[encoded data removed]",
      "text/plain": [
       "<Figure size 432x288 with 1 Axes>"
      ]
     },
     "metadata": {
      "needs_background": "light"
     },
     "output_type": "display_data"
    }
   ],
   "source": [
    "# Create a visualization to highlight any insight - Can be a scatter plot, line plot, box plot, histogram or any other visualization that you might know!\n",
    "\n",
    "housing_insight = sns.regplot(data=housing_df, x=\"SalePrice\", y=\"Overall Qual\", color=\"green\")"
   ]
  },
  {
   "cell_type": "markdown",
   "id": "665cd34a",
   "metadata": {
    "id": "665cd34a"
   },
   "source": [
    "# Task 2: Build machine learning models\n",
    "\n",
    "*Use your knowledge of prediction models to create at least three models that predict housing prices.*"
   ]
  },
  {
   "cell_type": "markdown",
   "id": "069db182",
   "metadata": {
    "id": "069db182"
   },
   "source": [
    "### 2.1 \n",
    "1. *Create dummies for all the categorical columns*.\n",
    "\n",
    "2. *Partition your data into training and validation (70-30 split, setting the random state to 1).*\n",
    "3. *Scale the train and the test set using StandardScaler()*"
   ]
  },
  {
   "cell_type": "code",
   "execution_count": 223,
   "id": "c738deae",
   "metadata": {
    "id": "c738deae"
   },
   "outputs": [],
   "source": [
    "# Initialize X and y\n",
    "X = housing_df.drop(columns=['SalePrice']) # All but the outcome column\n",
    "y = housing_df['SalePrice']"
   ]
  },
  {
   "cell_type": "code",
   "execution_count": 224,
   "id": "UxSr_jB6lgUZ",
   "metadata": {
    "id": "UxSr_jB6lgUZ"
   },
   "outputs": [],
   "source": [
    "# Use dummy variables for categorical variables\n",
    "\n",
    "X = pd.get_dummies(X, drop_first=False)"
   ]
  },
  {
   "cell_type": "code",
   "execution_count": 225,
   "id": "oLRB24jAlgN2",
   "metadata": {
    "id": "oLRB24jAlgN2"
   },
   "outputs": [],
   "source": [
    "# Train - Test split (70-30 split, setting the random state to 1)\n",
    "\n",
    "X_train, X_val, y_train, y_val = train_test_split(X, y, test_size=0.3, random_state = 1)"
   ]
  },
  {
   "cell_type": "code",
   "execution_count": 226,
   "id": "4POCJmKclgD3",
   "metadata": {
    "id": "4POCJmKclgD3"
   },
   "outputs": [],
   "source": [
    "# Scale the train and test set features separately\n",
    "scaler = StandardScaler()\n",
    "numeric_cols = [col for col in X.columns if X[col].dtypes != 'category']\n",
    "\n",
    "X_scaled = scaler.fit_transform(X)\n",
    "\n",
    "Xs_train, Xs_val = train_test_split(X_scaled, test_size=0.3, random_state = 1)"
   ]
  },
  {
   "cell_type": "code",
   "execution_count": 227,
   "id": "052642a7",
   "metadata": {},
   "outputs": [],
   "source": [
    "# Filter warnings\n",
    "import warnings \n",
    "warnings.filterwarnings('ignore')"
   ]
  },
  {
   "cell_type": "markdown",
   "id": "c2db9fd0",
   "metadata": {
    "id": "c2db9fd0"
   },
   "source": [
    "### 2.2\n",
    "*Build a linear regression model, a regression tree and a kNN model. Carefully apply regularization for the linear regression model. Carefully select which variables to use for the kNN model.*"
   ]
  },
  {
   "cell_type": "code",
   "execution_count": 228,
   "id": "4bfa0a04",
   "metadata": {
    "id": "4bfa0a04"
   },
   "outputs": [
    {
     "data": {
      "text/plain": [
       "Lasso(alpha=23.26)"
      ]
     },
     "execution_count": 228,
     "metadata": {},
     "output_type": "execute_result"
    }
   ],
   "source": [
    "# Linear model - USE LassoCV to get the best LASSO model\n",
    "alphas = np.arange(.01, 25, .25)\n",
    "lasso_housing_model = LassoCV(alphas= alphas, cv=5, max_iter=50000)\n",
    "lasso_housing_model.fit(Xs_train, y_train)\n",
    "\n",
    "lasso_best = Lasso(alpha = lasso_housing_model.alpha_)\n",
    "lasso_best.fit(Xs_train, y_train)"
   ]
  },
  {
   "cell_type": "code",
   "execution_count": 229,
   "id": "b5cb3683",
   "metadata": {
    "id": "b5cb3683"
   },
   "outputs": [
    {
     "name": "stdout",
     "output_type": "stream",
     "text": [
      "Fitting 5 folds for each of 5 candidates, totalling 25 fits\n"
     ]
    },
    {
     "data": {
      "text/plain": [
       "{'max_depth': 5}"
      ]
     },
     "execution_count": 229,
     "metadata": {},
     "output_type": "execute_result"
    }
   ],
   "source": [
    "# Tree Model - Use max depth to control the complexity of the tree. Run a Grid search for multiple values of max depth.\n",
    "X = housing_df.drop(columns=['SalePrice']) # All but the outcome column\n",
    "y = housing_df['SalePrice']\n",
    "\n",
    "X = pd.get_dummies(X, drop_first=False)\n",
    "\n",
    "X_train, X_val, y_train, y_val = train_test_split(X, y, test_size=0.3, random_state = 1)\n",
    "\n",
    "tree_reg = DecisionTreeRegressor(random_state = 0)\n",
    "tree_reg = tree_reg.fit(X_train, y_train)\n",
    "\n",
    "# Define the range of the max_depth parameter\n",
    "param_grid = {'max_depth': np.arange(1, 6)} # Parameter range\n",
    "\n",
    "# Perform grid search\n",
    "grid = GridSearchCV(tree_reg , param_grid, cv = 5, scoring = 'neg_mean_squared_error', return_train_score = False, verbose = 1)\n",
    "grid_search = grid.fit(X_train, y_train)\n",
    "#Tree Model \n",
    "grid_search.best_params_"
   ]
  },
  {
   "cell_type": "code",
   "execution_count": 230,
   "id": "da79ce2d",
   "metadata": {
    "id": "da79ce2d"
   },
   "outputs": [
    {
     "name": "stdout",
     "output_type": "stream",
     "text": [
      "Fitting 5 folds for each of 19 candidates, totalling 95 fits\n"
     ]
    },
    {
     "data": {
      "text/plain": [
       "{'n_neighbors': 8}"
      ]
     },
     "execution_count": 230,
     "metadata": {},
     "output_type": "execute_result"
    }
   ],
   "source": [
    "# KNN Model\n",
    "\n",
    "# Select the top 20 most correlated features and store it in a list called 'top_20_features' (using similar correlation table from Task 1)\n",
    "housing_corr = housing_df.corr()\n",
    "corr_df = pd.DataFrame(housing_df.corr()['SalePrice'].sort_values(ascending=False)).reset_index()\n",
    "corr_df\n",
    "top_20_features = list(corr_df.loc[:20]['index']) # Selecting the top 20 features\n",
    "\n",
    "#For building the model, you must use X_train[top_20_features]\n",
    "X = top_20_features\n",
    "y = housing_df['SalePrice']\n",
    "\n",
    "\n",
    "scaler = StandardScaler()\n",
    "\n",
    "X_train=scaler.fit_transform(X_train)\n",
    "X_val=scaler.transform(X_train)\n",
    "\n",
    "    \n",
    "# Find the value of k for which RMSE is minimum, using GridSearchCV\n",
    "knn_reg = KNeighborsRegressor()\n",
    "param_grid = {'n_neighbors': np.arange(1,20)} # Parameter range\n",
    "  \n",
    "# defining parameter range\n",
    "grid = GridSearchCV(knn_reg, param_grid, cv=5, scoring='neg_mean_squared_error', return_train_score=False, verbose=1)\n",
    "grid_search = grid.fit(X_train, y_train)\n",
    "\n",
    "grid_search.best_params_"
   ]
  },
  {
   "cell_type": "markdown",
   "id": "b0b5f15c",
   "metadata": {
    "id": "b0b5f15c"
   },
   "source": [
    "### 2.3\n",
    "*Summarize the predictive performance in terms of RMSE.* \n",
    "1. *Calculate the RMSE values for train and validation for all the models*\n",
    "2. *Display them in a tabulated format*\n",
    "\n",
    "Hint: You may use the code that you've learnt in the 'Model selection' module"
   ]
  },
  {
   "cell_type": "code",
   "execution_count": 231,
   "id": "ec533b4a",
   "metadata": {
    "id": "ec533b4a"
   },
   "outputs": [
    {
     "data": {
      "text/html": [
       "<div>\n",
       "<style scoped>\n",
       "    .dataframe tbody tr th:only-of-type {\n",
       "        vertical-align: middle;\n",
       "    }\n",
       "\n",
       "    .dataframe tbody tr th {\n",
       "        vertical-align: top;\n",
       "    }\n",
       "\n",
       "    .dataframe thead th {\n",
       "        text-align: right;\n",
       "    }\n",
       "</style>\n",
       "<table border=\"1\" class=\"dataframe\">\n",
       "  <thead>\n",
       "    <tr style=\"text-align: right;\">\n",
       "      <th></th>\n",
       "      <th>Train</th>\n",
       "      <th>Validation</th>\n",
       "    </tr>\n",
       "  </thead>\n",
       "  <tbody>\n",
       "    <tr>\n",
       "      <th>Lin Reg</th>\n",
       "      <td>20672</td>\n",
       "      <td>22315</td>\n",
       "    </tr>\n",
       "    <tr>\n",
       "      <th>Reg Tree</th>\n",
       "      <td>30285</td>\n",
       "      <td>34206</td>\n",
       "    </tr>\n",
       "    <tr>\n",
       "      <th>kNN</th>\n",
       "      <td>33216</td>\n",
       "      <td>36779</td>\n",
       "    </tr>\n",
       "  </tbody>\n",
       "</table>\n",
       "</div>"
      ],
      "text/plain": [
       "          Train  Validation\n",
       "Lin Reg   20672       22315\n",
       "Reg Tree  30285       34206\n",
       "kNN       33216       36779"
      ]
     },
     "execution_count": 231,
     "metadata": {},
     "output_type": "execute_result"
    }
   ],
   "source": [
    "#linear regression\n",
    "\n",
    "alphas = np.arange(.01, 25, .25)\n",
    "lasso_housing_model = LassoCV(alphas= alphas, cv=5, max_iter=50000)\n",
    "lasso_housing_model.fit(Xs_train, y_train)\n",
    "\n",
    "lasso_best = Lasso(alpha = lasso_housing_model.alpha_)\n",
    "lasso_best.fit(Xs_train, y_train)\n",
    "\n",
    "lin_train_rmse = round(rmse(y_train, lasso_best.predict(Xs_train)))\n",
    "lin_val_rmse = round(rmse(y_val, lasso_best.predict(Xs_val)))\n",
    "\n",
    "#max depth pruned tree\n",
    "tree_reg = DecisionTreeRegressor(max_depth=5, random_state = 0)\n",
    "tree_reg = tree_reg.fit(X_train, y_train)\n",
    "\n",
    "\n",
    "# Calculate RMSE for the best tree\n",
    "tree_train_rmse = round(rmse(y_train, tree_reg.predict(X_train)))\n",
    "tree_val_rmse = round(rmse(y_val, tree_reg.predict(Xs_val)))\n",
    "\n",
    "\n",
    "\n",
    "#knn\n",
    "\n",
    "knn = KNeighborsRegressor(n_neighbors=8)\n",
    "knn.fit(X_train, y_train)\n",
    "\n",
    "knn_train_rmse = round(rmse(y_train, knn.predict(X_train)))\n",
    "knn_val_rmse = round(rmse(y_val, knn.predict(Xs_val)))\n",
    "#Display the RMSEs\n",
    "\n",
    "pd.DataFrame([[lin_train_rmse,lin_val_rmse],[tree_train_rmse, tree_val_rmse],[knn_train_rmse,knn_val_rmse]], columns = ['Train','Validation'], index = ['Lin Reg', 'Reg Tree', 'kNN'])\n",
    "\n"
   ]
  },
  {
   "cell_type": "markdown",
   "id": "40165e94",
   "metadata": {
    "id": "40165e94"
   },
   "source": [
    "### 2.4\n",
    "*Study the largest errors that you made (largest overpredictions, largest underpredictions). What may be some of the reasons why the model is over/under predicting? Do these insights possibly help you improve the models?*"
   ]
  },
  {
   "cell_type": "code",
   "execution_count": 232,
   "id": "53519128",
   "metadata": {
    "id": "53519128"
   },
   "outputs": [
    {
     "data": {
      "image/png": "[encoded data removed]",
      "text/plain": [
       "<Figure size 432x288 with 1 Axes>"
      ]
     },
     "metadata": {
      "needs_background": "light"
     },
     "output_type": "display_data"
    },
    {
     "data": {
      "image/png": "[encoded data removed]",
      "text/plain": [
       "<Figure size 432x288 with 1 Axes>"
      ]
     },
     "metadata": {
      "needs_background": "light"
     },
     "output_type": "display_data"
    },
    {
     "data": {
      "image/png": "[encoded data removed]",
      "text/plain": [
       "<Figure size 432x288 with 1 Axes>"
      ]
     },
     "metadata": {
      "needs_background": "light"
     },
     "output_type": "display_data"
    }
   ],
   "source": [
    "# Visualize the errors - plot a scatterplot of the residuals vs the true SalePrice\n",
    "\n",
    "lasso_best = Lasso(alpha = lasso_housing_model.alpha_)\n",
    "lasso_best.fit(Xs_train, y_train)\n",
    "\n",
    "y_val_pred=lasso_best.predict(Xs_val)\n",
    "\n",
    "residuals_lasso = y_val - y_val_pred\n",
    "\n",
    "tree_reg = DecisionTreeRegressor(max_depth=5, random_state = 0)\n",
    "tree_reg = tree_reg.fit(X_train, y_train)\n",
    "\n",
    "y_val_pred=tree_reg.predict(Xs_val)\n",
    "\n",
    "residuals_tree = y_val - y_val_pred\n",
    "\n",
    "knn = KNeighborsRegressor(n_neighbors=8)\n",
    "knn.fit(X_train, y_train)\n",
    "\n",
    "y_val_pred=knn.predict(Xs_val)\n",
    "\n",
    "residuals_knn = y_val - y_val_pred\n",
    "\n",
    "plt.scatter(y_val, residuals_lasso)\n",
    "plt.xlabel(\"True SalePrice\")\n",
    "plt.ylabel(\"Residuals\")\n",
    "plt.title(\"Scatterplot of Residuals vs True SalePrice\")\n",
    "plt.show()\n",
    "\n",
    "plt.scatter(y_val, residuals_tree)\n",
    "plt.xlabel(\"True SalePrice\")\n",
    "plt.ylabel(\"Residuals\")\n",
    "plt.title(\"Scatterplot of Residuals vs True SalePrice\")\n",
    "plt.show()\n",
    "\n",
    "plt.scatter(y_val, residuals_knn)\n",
    "plt.xlabel(\"True SalePrice\")\n",
    "plt.ylabel(\"Residuals\")\n",
    "plt.title(\"Scatterplot of Residuals vs True SalePrice\")\n",
    "plt.show()"
   ]
  },
  {
   "cell_type": "markdown",
   "id": "8b007ee9",
   "metadata": {
    "id": "8b007ee9"
   },
   "source": [
    "# Task 3"
   ]
  },
  {
   "cell_type": "markdown",
   "id": "fd34e97d",
   "metadata": {
    "id": "fd34e97d"
   },
   "source": [
    "### 3.1\n",
    "*Are you able to improve your linear regression model by taking the log of the dependent variable? (remember to translate your predicted outcome back to the original units before calculating the RMSE)*"
   ]
  },
  {
   "cell_type": "markdown",
   "id": "3611aecb",
   "metadata": {
    "id": "3611aecb"
   },
   "source": [
    "*Create a visualization, that highlights the distribution of prices when after taking log of the dependent variable*\n",
    "\n",
    "Hint - You may use [numpy.log()](https://numpy.org/doc/stable/reference/generated/numpy.log.html) to get the log of the dependent variable"
   ]
  },
  {
   "cell_type": "code",
   "execution_count": 233,
   "id": "196d5160",
   "metadata": {
    "id": "196d5160"
   },
   "outputs": [],
   "source": [
    "# distribution of the transformed SalePrice\n",
    "\n",
    "y_train_log = np.log(y_train)\n"
   ]
  },
  {
   "cell_type": "code",
   "execution_count": 234,
   "id": "4783d03f",
   "metadata": {
    "id": "4783d03f"
   },
   "outputs": [],
   "source": [
    "# Linear model - Using the log of the SalePrice as the dependent variable, run the LassoCV to obtain the best LASSO model\n",
    "# Note that the optimum value of Alpha for this model would also be scaled down to a log scale. It's a better idea to simply search for the best alpha once again using LassoCV.\n",
    "\n",
    "alphas = np.arange(.01, 25, .25)\n",
    "lasso_housing_model = LassoCV(alphas= alphas, cv=5, max_iter=50000)\n",
    "lasso_housing_model.fit(Xs_train, y_train_log)\n",
    "\n",
    "\n",
    "\n",
    "y_val_pred_log = lasso_housing_model.predict(X_val)"
   ]
  },
  {
   "cell_type": "code",
   "execution_count": 235,
   "id": "i1-mZsHXA2_U",
   "metadata": {
    "id": "i1-mZsHXA2_U"
   },
   "outputs": [],
   "source": [
    "# Calculate the RMSE values for train and the test set\n",
    "\n",
    "lin_train_rmse = round(rmse(y_train, lasso_housing_model.predict(Xs_train)))\n",
    "lin_val_rmse = round(rmse(y_val, lasso_housing_model.predict(Xs_val)))"
   ]
  },
  {
   "cell_type": "code",
   "execution_count": 236,
   "id": "3ddoV85gA3es",
   "metadata": {
    "id": "3ddoV85gA3es"
   },
   "outputs": [
    {
     "data": {
      "text/html": [
       "<div>\n",
       "<style scoped>\n",
       "    .dataframe tbody tr th:only-of-type {\n",
       "        vertical-align: middle;\n",
       "    }\n",
       "\n",
       "    .dataframe tbody tr th {\n",
       "        vertical-align: top;\n",
       "    }\n",
       "\n",
       "    .dataframe thead th {\n",
       "        text-align: right;\n",
       "    }\n",
       "</style>\n",
       "<table border=\"1\" class=\"dataframe\">\n",
       "  <thead>\n",
       "    <tr style=\"text-align: right;\">\n",
       "      <th></th>\n",
       "      <th>Train</th>\n",
       "      <th>Validation</th>\n",
       "    </tr>\n",
       "  </thead>\n",
       "  <tbody>\n",
       "    <tr>\n",
       "      <th>Lin Reg</th>\n",
       "      <td>199211</td>\n",
       "      <td>193932</td>\n",
       "    </tr>\n",
       "  </tbody>\n",
       "</table>\n",
       "</div>"
      ],
      "text/plain": [
       "          Train  Validation\n",
       "Lin Reg  199211      193932"
      ]
     },
     "execution_count": 236,
     "metadata": {},
     "output_type": "execute_result"
    }
   ],
   "source": [
    "# Display the RMSE values in a dataframe\n",
    "\n",
    "pd.DataFrame([[lin_train_rmse,lin_val_rmse]], columns = ['Train','Validation'], index = ['Lin Reg'])"
   ]
  },
  {
   "cell_type": "markdown",
   "id": "8a9adf7b",
   "metadata": {
    "id": "8a9adf7b"
   },
   "source": [
    "### 3.2 Bonus Task\n",
    "*Experiment with data segmentation: Should you subset the data and fit separate models for each subset?*"
   ]
  },
  {
   "cell_type": "markdown",
   "id": "92d49a44",
   "metadata": {
    "id": "92d49a44"
   },
   "source": [
    "Data segmentation is generally useful when we think that subsegments of our data have substantially different relationships between their features and the outcome compared to other subsegments (i.e variable interactions). We can use a combination of prior knowledge and data exploration to build our domain knowledge about where this situation would apply.\n",
    "\n",
    "Starting with prior knowledge, you can hypothesize $HouseStyle$ may be a candidate for data segmentation, as for instance, 3 bedrooms in a 1-story house may have a different effect on $SalePrice$ than 3 bedrooms in a 2-story house."
   ]
  },
  {
   "cell_type": "code",
   "execution_count": 237,
   "id": "59a906fb",
   "metadata": {
    "id": "59a906fb",
    "scrolled": true
   },
   "outputs": [
    {
     "data": {
      "text/plain": [
       "1Story    1481\n",
       "2Story     873\n",
       "1.5Fin     314\n",
       "SLvl       128\n",
       "SFoyer      83\n",
       "2.5Unf      24\n",
       "1.5Unf      19\n",
       "2.5Fin       8\n",
       "Name: House Style, dtype: int64"
      ]
     },
     "execution_count": 237,
     "metadata": {},
     "output_type": "execute_result"
    }
   ],
   "source": [
    "housing_df['House Style'].value_counts()"
   ]
  },
  {
   "cell_type": "code",
   "execution_count": 238,
   "id": "dbb88267",
   "metadata": {
    "id": "dbb88267"
   },
   "outputs": [
    {
     "data": {
      "text/plain": [
       "3    1597\n",
       "2     743\n",
       "4     400\n",
       "1     112\n",
       "5      48\n",
       "6      21\n",
       "0       8\n",
       "8       1\n",
       "Name: Bedroom AbvGr, dtype: int64"
      ]
     },
     "execution_count": 238,
     "metadata": {},
     "output_type": "execute_result"
    }
   ],
   "source": [
    "housing_df['Bedroom AbvGr'].value_counts()"
   ]
  },
  {
   "cell_type": "code",
   "execution_count": 239,
   "id": "IZRHdf_VKJ8X",
   "metadata": {
    "id": "IZRHdf_VKJ8X"
   },
   "outputs": [
    {
     "data": {
      "image/png": "[encoded data removed]",
      "text/plain": [
       "<Figure size 432x288 with 2 Axes>"
      ]
     },
     "metadata": {
      "needs_background": "light"
     },
     "output_type": "display_data"
    }
   ],
   "source": [
    "matrix = []\n",
    "styles = ['1Story', '2Story', '1.5Fin']\n",
    "for style in styles:\n",
    "    curr_style = []\n",
    "    for bedrooms in range(1, 6):\n",
    "        curr_mean = housing_df[(housing_df['House Style'] == style) & \n",
    "                               (housing_df['Bedroom AbvGr'] == bedrooms)]['SalePrice'].mean()\n",
    "        \n",
    "        curr_style.append(curr_mean)\n",
    "    matrix.append(curr_style)\n",
    "sns.heatmap(matrix)\n",
    "plt.ylabel('House Style')\n",
    "plt.yticks(np.arange(3)+0.5, styles)\n",
    "plt.xlabel('Bedroom AbvGr')\n",
    "plt.xticks(np.arange(5)+0.5, np.arange(5)+1)\n",
    "pass\n"
   ]
  },
  {
   "cell_type": "markdown",
   "id": "d80eb073",
   "metadata": {
    "id": "d80eb073"
   },
   "source": [
    "We indeed see some interaction between the housing style and bedroom number, indicating data segmentation could be promising. \n",
    "\n",
    "*From here, it's your task to start building a linear model to see whether data segmentation will improve results.*"
   ]
  },
  {
   "cell_type": "markdown",
   "id": "Y3AVv5wtlbcA",
   "metadata": {
    "id": "Y3AVv5wtlbcA"
   },
   "source": [
    "Hint: For the first two subtasks in 3.2, you could run a for-loop for each style in HouseStyles and evaluate/create the LASSO model."
   ]
  },
  {
   "cell_type": "code",
   "execution_count": 240,
   "id": "747f4393",
   "metadata": {
    "id": "747f4393"
   },
   "outputs": [],
   "source": [
    "# Linear Full Model (FM) - Train a Lasso model for the whole dataset \n",
    "\n",
    "# Define the predictors and the outcome variable\n",
    "predictors = ['Bedroom AbvGr']\n",
    "outcome = 'SalePrice'\n",
    "\n",
    "# Define the combinations of house style and number of bedrooms to segment the data\n",
    "combinations = [('1Story', 3)]\n",
    "\n",
    "\n",
    "# Loop through each combination of house style and number of bedrooms and fit a LASSO model\n",
    "for style, bedrooms in combinations:\n",
    "# Segment the data by house style and number of bedrooms\n",
    "    key = style + '_' + str(bedrooms)\n",
    "    subset_data = housing_df[(housing_df['House Style'] == style) & (housing_df['Bedroom AbvGr'] == bedrooms)]\n",
    "\n",
    "# Split the data into training and validation sets\n",
    "X = subset_data[predictors]\n",
    "y = subset_data[outcome]\n",
    "X_train, X_val, y_train, y_val = train_test_split(X, y, test_size=0.2, random_state=1)\n",
    "\n",
    "# Fit a LASSO model\n",
    "model = Lasso(alpha=0.1)\n",
    "model.fit(X_train, y_train)\n",
    "\n",
    "# Compute the RMSE for the training and validation sets\n",
    "y_train_pred = model.predict(X_train)\n",
    "y_val_pred = model.predict(X_val)\n",
    "train_rmse_c = round(mean_squared_error(y_train, y_train_pred, squared=False))\n",
    "val_rmse_c = round(mean_squared_error(y_val, y_val_pred, squared=False))\n",
    "\n",
    "\n",
    "# Linear Full Model (FM) - Train a Lasso model for the whole dataset \n",
    "\n",
    "# Define the predictors and the outcome variable\n",
    "predictors = ['Bedroom AbvGr']\n",
    "outcome = 'SalePrice'\n",
    "\n",
    "# Define the combinations of house style and number of bedrooms to segment the data\n",
    "combinations1 = [('2Story', 3)]\n",
    "\n",
    "\n",
    "# Loop through each combination of house style and number of bedrooms and fit a LASSO model\n",
    "for style, bedrooms in combinations1:\n",
    "# Segment the data by house style and number of bedrooms\n",
    "    key = style + '_' + str(bedrooms)\n",
    "    subset_data = housing_df[(housing_df['House Style'] == style) & (housing_df['Bedroom AbvGr'] == bedrooms)]\n",
    "\n",
    "# Split the data into training and validation sets\n",
    "X = subset_data[predictors]\n",
    "y = subset_data[outcome]\n",
    "X_train, X_val, y_train, y_val = train_test_split(X, y, test_size=0.2, random_state=1)\n",
    "\n",
    "# Fit a LASSO model\n",
    "model = Lasso(alpha=0.1)\n",
    "model.fit(X_train, y_train)\n",
    "\n",
    "# Compute the RMSE for the training and validation sets\n",
    "y_train_pred = model.predict(X_train)\n",
    "y_val_pred = model.predict(X_val)\n",
    "train_rmse_c1 = round(mean_squared_error(y_train, y_train_pred, squared=False))\n",
    "val_rmse_c1 = round(mean_squared_error(y_val, y_val_pred, squared=False))\n",
    "\n",
    "\n",
    "# Linear Full Model (FM) - Train a Lasso model for the whole dataset \n",
    "\n",
    "# Define the predictors and the outcome variable\n",
    "predictors = ['Bedroom AbvGr']\n",
    "outcome = 'SalePrice'\n",
    "\n",
    "# Define the combinations of house style and number of bedrooms to segment the data\n",
    "combinations2 = [('1.5Fin', 3)]\n",
    "\n",
    "\n",
    "# Loop through each combination of house style and number of bedrooms and fit a LASSO model\n",
    "for style, bedrooms in combinations2:\n",
    "# Segment the data by house style and number of bedrooms\n",
    "    key = style + '_' + str(bedrooms)\n",
    "    subset_data = housing_df[(housing_df['House Style'] == style) & (housing_df['Bedroom AbvGr'] == bedrooms)]\n",
    "\n",
    "# Split the data into training and validation sets\n",
    "X = subset_data[predictors]\n",
    "y = subset_data[outcome]\n",
    "X_train, X_val, y_train, y_val = train_test_split(X, y, test_size=0.2, random_state=1)\n",
    "\n",
    "# Fit a LASSO model\n",
    "model = Lasso(alpha=0.1)\n",
    "model.fit(X_train, y_train)\n",
    "\n",
    "# Compute the RMSE for the training and validation sets\n",
    "y_train_pred = model.predict(X_train)\n",
    "y_val_pred = model.predict(X_val)\n",
    "train_rmse_c2 = round(mean_squared_error(y_train, y_train_pred, squared=False))\n",
    "val_rmse_c2 = round(mean_squared_error(y_val, y_val_pred, squared=False))\n",
    "\n",
    "\n"
   ]
  },
  {
   "cell_type": "code",
   "execution_count": 241,
   "id": "1e2da0e1",
   "metadata": {
    "id": "1e2da0e1"
   },
   "outputs": [
    {
     "data": {
      "text/html": [
       "<div>\n",
       "<style scoped>\n",
       "    .dataframe tbody tr th:only-of-type {\n",
       "        vertical-align: middle;\n",
       "    }\n",
       "\n",
       "    .dataframe tbody tr th {\n",
       "        vertical-align: top;\n",
       "    }\n",
       "\n",
       "    .dataframe thead th {\n",
       "        text-align: right;\n",
       "    }\n",
       "</style>\n",
       "<table border=\"1\" class=\"dataframe\">\n",
       "  <thead>\n",
       "    <tr style=\"text-align: right;\">\n",
       "      <th></th>\n",
       "      <th>Train RMSE</th>\n",
       "      <th>Validation RMSE</th>\n",
       "    </tr>\n",
       "  </thead>\n",
       "  <tbody>\n",
       "    <tr>\n",
       "      <th>1Story</th>\n",
       "      <td>66474</td>\n",
       "      <td>80585</td>\n",
       "    </tr>\n",
       "    <tr>\n",
       "      <th>2Story</th>\n",
       "      <td>66688</td>\n",
       "      <td>61662</td>\n",
       "    </tr>\n",
       "    <tr>\n",
       "      <th>1.5Fin</th>\n",
       "      <td>32839</td>\n",
       "      <td>41194</td>\n",
       "    </tr>\n",
       "  </tbody>\n",
       "</table>\n",
       "</div>"
      ],
      "text/plain": [
       "        Train RMSE  Validation RMSE\n",
       "1Story       66474            80585\n",
       "2Story       66688            61662\n",
       "1.5Fin       32839            41194"
      ]
     },
     "execution_count": 241,
     "metadata": {},
     "output_type": "execute_result"
    }
   ],
   "source": [
    "# Create a DataFrame to store the values of RMSE for both the models on the train and validation sets on all the 3 subsets of data\n",
    "pd.DataFrame([[train_rmse_c, val_rmse_c],[train_rmse_c1, val_rmse_c1], [train_rmse_c2, val_rmse_c2]], columns = ['Train RMSE', 'Validation RMSE'], index = ['1Story', '2Story', '1.5Fin'])"
   ]
  },
  {
   "cell_type": "markdown",
   "id": "fY-Yzk3z3xq7",
   "metadata": {
    "id": "fY-Yzk3z3xq7"
   },
   "source": [
    "*Write down your inferences about the performance of the subsetted model here -* \n",
    "\n",
    "**Still there is a lot of scope for improvement as there is a difference in training and validation data which is on a higher side and is not negligible.**"
   ]
  },
  {
   "cell_type": "markdown",
   "id": "803ba45e",
   "metadata": {
    "id": "803ba45e"
   },
   "source": [
    "# Task 4: Summarize your findings\n",
    "*Now take some time to translate your results into valuable insights.*"
   ]
  },
  {
   "cell_type": "markdown",
   "id": "e6542ae0",
   "metadata": {
    "id": "e6542ae0"
   },
   "source": [
    "### 4.1\n",
    "*What drives housing prices? Find the top 20 major drivers.*\n",
    "\n",
    "Hint - In course 3 module 1, you have already seen how to store the coefficients of a model in a dictionary. You can convert the dictionary into a DataFrame and sort the dataframe by the coefficients. [Here's](https://stackoverflow.com/questions/18837262/convert-python-dict-into-a-dataframe) some guidance on how to convert dictionary into a DataFrame."
   ]
  },
  {
   "cell_type": "code",
   "execution_count": 242,
   "id": "e1c1c67d",
   "metadata": {
    "id": "e1c1c67d"
   },
   "outputs": [
    {
     "data": {
      "text/html": [
       "<div>\n",
       "<style scoped>\n",
       "    .dataframe tbody tr th:only-of-type {\n",
       "        vertical-align: middle;\n",
       "    }\n",
       "\n",
       "    .dataframe tbody tr th {\n",
       "        vertical-align: top;\n",
       "    }\n",
       "\n",
       "    .dataframe thead th {\n",
       "        text-align: right;\n",
       "    }\n",
       "</style>\n",
       "<table border=\"1\" class=\"dataframe\">\n",
       "  <thead>\n",
       "    <tr style=\"text-align: right;\">\n",
       "      <th></th>\n",
       "      <th>Feature</th>\n",
       "      <th>Coefficient</th>\n",
       "    </tr>\n",
       "  </thead>\n",
       "  <tbody>\n",
       "    <tr>\n",
       "      <th>0</th>\n",
       "      <td>Overall Qual</td>\n",
       "      <td>19332.0</td>\n",
       "    </tr>\n",
       "    <tr>\n",
       "      <th>11</th>\n",
       "      <td>Fireplaces</td>\n",
       "      <td>6356.0</td>\n",
       "    </tr>\n",
       "    <tr>\n",
       "      <th>17</th>\n",
       "      <td>Bsmt Full Bath</td>\n",
       "      <td>6289.0</td>\n",
       "    </tr>\n",
       "    <tr>\n",
       "      <th>2</th>\n",
       "      <td>Garage Cars</td>\n",
       "      <td>5065.0</td>\n",
       "    </tr>\n",
       "    <tr>\n",
       "      <th>8</th>\n",
       "      <td>Year Remod/Add</td>\n",
       "      <td>370.0</td>\n",
       "    </tr>\n",
       "    <tr>\n",
       "      <th>6</th>\n",
       "      <td>Year Built</td>\n",
       "      <td>197.0</td>\n",
       "    </tr>\n",
       "    <tr>\n",
       "      <th>13</th>\n",
       "      <td>Lot Frontage</td>\n",
       "      <td>103.0</td>\n",
       "    </tr>\n",
       "    <tr>\n",
       "      <th>9</th>\n",
       "      <td>Mas Vnr Area</td>\n",
       "      <td>33.0</td>\n",
       "    </tr>\n",
       "    <tr>\n",
       "      <th>5</th>\n",
       "      <td>1st Flr SF</td>\n",
       "      <td>26.0</td>\n",
       "    </tr>\n",
       "    <tr>\n",
       "      <th>1</th>\n",
       "      <td>Gr Liv Area</td>\n",
       "      <td>25.0</td>\n",
       "    </tr>\n",
       "    <tr>\n",
       "      <th>4</th>\n",
       "      <td>Garage Area</td>\n",
       "      <td>22.0</td>\n",
       "    </tr>\n",
       "    <tr>\n",
       "      <th>18</th>\n",
       "      <td>2nd Flr SF</td>\n",
       "      <td>21.0</td>\n",
       "    </tr>\n",
       "    <tr>\n",
       "      <th>14</th>\n",
       "      <td>Wood Deck SF</td>\n",
       "      <td>18.0</td>\n",
       "    </tr>\n",
       "    <tr>\n",
       "      <th>12</th>\n",
       "      <td>BsmtFin SF 1</td>\n",
       "      <td>14.0</td>\n",
       "    </tr>\n",
       "    <tr>\n",
       "      <th>3</th>\n",
       "      <td>Total Bsmt SF</td>\n",
       "      <td>12.0</td>\n",
       "    </tr>\n",
       "    <tr>\n",
       "      <th>19</th>\n",
       "      <td>Lot Area</td>\n",
       "      <td>0.0</td>\n",
       "    </tr>\n",
       "    <tr>\n",
       "      <th>15</th>\n",
       "      <td>Open Porch SF</td>\n",
       "      <td>-7.0</td>\n",
       "    </tr>\n",
       "    <tr>\n",
       "      <th>10</th>\n",
       "      <td>TotRms AbvGrd</td>\n",
       "      <td>-387.0</td>\n",
       "    </tr>\n",
       "    <tr>\n",
       "      <th>16</th>\n",
       "      <td>Half Bath</td>\n",
       "      <td>-1867.0</td>\n",
       "    </tr>\n",
       "    <tr>\n",
       "      <th>7</th>\n",
       "      <td>Full Bath</td>\n",
       "      <td>-2478.0</td>\n",
       "    </tr>\n",
       "  </tbody>\n",
       "</table>\n",
       "</div>"
      ],
      "text/plain": [
       "           Feature  Coefficient\n",
       "0     Overall Qual      19332.0\n",
       "11      Fireplaces       6356.0\n",
       "17  Bsmt Full Bath       6289.0\n",
       "2      Garage Cars       5065.0\n",
       "8   Year Remod/Add        370.0\n",
       "6       Year Built        197.0\n",
       "13    Lot Frontage        103.0\n",
       "9     Mas Vnr Area         33.0\n",
       "5       1st Flr SF         26.0\n",
       "1      Gr Liv Area         25.0\n",
       "4      Garage Area         22.0\n",
       "18      2nd Flr SF         21.0\n",
       "14    Wood Deck SF         18.0\n",
       "12    BsmtFin SF 1         14.0\n",
       "3    Total Bsmt SF         12.0\n",
       "19        Lot Area          0.0\n",
       "15   Open Porch SF         -7.0\n",
       "10   TotRms AbvGrd       -387.0\n",
       "16       Half Bath      -1867.0\n",
       "7        Full Bath      -2478.0"
      ]
     },
     "execution_count": 242,
     "metadata": {},
     "output_type": "execute_result"
    }
   ],
   "source": [
    "# Visualize all the columns and their coefficients sorted in descending order to understand the ones that has the most say in the SalePrice\n",
    "# Hint - Check the code for Course 3 Module 1 - Linear regression in a predictive setting to \n",
    "\n",
    "\n",
    "X = housing_df[['Overall Qual', 'Gr Liv Area', 'Garage Cars', 'Total Bsmt SF', 'Garage Area', '1st Flr SF', 'Year Built', 'Full Bath', 'Year Remod/Add', 'Mas Vnr Area', 'TotRms AbvGrd', 'Fireplaces', 'BsmtFin SF 1', 'Lot Frontage', 'Wood Deck SF', 'Open Porch SF', 'Half Bath', 'Bsmt Full Bath', '2nd Flr SF', 'Lot Area']]\n",
    "y = housing_df['SalePrice']\n",
    "\n",
    "# Train a Lasso model\n",
    "lasso = Lasso(alpha=0.1)\n",
    "lasso.fit(X, y)\n",
    "\n",
    "# Store the coefficients in a dictionary\n",
    "coef_dict = {'Feature': X.columns, 'Coefficient': lasso.coef_}\n",
    "\n",
    "# Convert the dictionary to a DataFrame\n",
    "coef_df = pd.DataFrame.from_dict(coef_dict)\n",
    "\n",
    "# Sort the DataFrame by the coefficient values\n",
    "coef_df = round(coef_df.sort_values('Coefficient', ascending=False))\n",
    "\n",
    "coef_df"
   ]
  },
  {
   "cell_type": "markdown",
   "id": "AEwkNH-uOHhl",
   "metadata": {
    "id": "AEwkNH-uOHhl"
   },
   "source": [
    "*You can also use a built in variable importance function from decision trees to capture a summary of the importance of different features in our regression tree.* \n",
    "\n",
    "Note: There is no coding to be done in this cell. Just execute this cell and observe the feature importances."
   ]
  },
  {
   "cell_type": "code",
   "execution_count": 243,
   "id": "MmQBSolJOHM3",
   "metadata": {
    "id": "MmQBSolJOHM3"
   },
   "outputs": [
    {
     "name": "stdout",
     "output_type": "stream",
     "text": [
      "Feature importance by sklearn: \n"
     ]
    },
    {
     "data": {
      "text/html": [
       "<div>\n",
       "<style scoped>\n",
       "    .dataframe tbody tr th:only-of-type {\n",
       "        vertical-align: middle;\n",
       "    }\n",
       "\n",
       "    .dataframe tbody tr th {\n",
       "        vertical-align: top;\n",
       "    }\n",
       "\n",
       "    .dataframe thead th {\n",
       "        text-align: right;\n",
       "    }\n",
       "</style>\n",
       "<table border=\"1\" class=\"dataframe\">\n",
       "  <thead>\n",
       "    <tr style=\"text-align: right;\">\n",
       "      <th></th>\n",
       "      <th>Feature</th>\n",
       "      <th>Importance</th>\n",
       "    </tr>\n",
       "  </thead>\n",
       "  <tbody>\n",
       "    <tr>\n",
       "      <th>0</th>\n",
       "      <td>Bedroom AbvGr</td>\n",
       "      <td>0.0</td>\n",
       "    </tr>\n",
       "  </tbody>\n",
       "</table>\n",
       "</div>"
      ],
      "text/plain": [
       "         Feature  Importance\n",
       "0  Bedroom AbvGr         0.0"
      ]
     },
     "execution_count": 243,
     "metadata": {},
     "output_type": "execute_result"
    }
   ],
   "source": [
    "# Extract the feature_importances_ attribute from the tree model (feature_importances_ is an attribute available in trained sklearn models)\n",
    "\n",
    "# Extracting the importances by sklearn (Replace tree_reg_best by the variable of your tree model)\n",
    "importances_sk = tree_reg.feature_importances_\n",
    "\n",
    "# Creating a dataframe with the feature importance by sklearn\n",
    "feature_importance_df = []\n",
    "for i, feature in enumerate(X_train.columns):\n",
    "    feature_importance_df.append([feature, round(importances_sk[i], 3)])\n",
    "   \n",
    "feature_importance_df = pd.DataFrame(feature_importance_df,\n",
    "                                     columns=['Feature', 'Importance'])\n",
    "feature_importance_df = feature_importance_df.sort_values(by='Importance', ascending=False).reset_index(drop=True)\n",
    "print(f\"Feature importance by sklearn: \")\n",
    "feature_importance_df.iloc[:20]"
   ]
  },
  {
   "cell_type": "markdown",
   "id": "1d228173",
   "metadata": {
    "id": "1d228173"
   },
   "source": [
    "### 4.2\n",
    "*What is the predictive performance of your models?*"
   ]
  },
  {
   "cell_type": "code",
   "execution_count": 244,
   "id": "230b8976",
   "metadata": {
    "id": "ec533b4a"
   },
   "outputs": [
    {
     "data": {
      "text/html": [
       "<div>\n",
       "<style scoped>\n",
       "    .dataframe tbody tr th:only-of-type {\n",
       "        vertical-align: middle;\n",
       "    }\n",
       "\n",
       "    .dataframe tbody tr th {\n",
       "        vertical-align: top;\n",
       "    }\n",
       "\n",
       "    .dataframe thead th {\n",
       "        text-align: right;\n",
       "    }\n",
       "</style>\n",
       "<table border=\"1\" class=\"dataframe\">\n",
       "  <thead>\n",
       "    <tr style=\"text-align: right;\">\n",
       "      <th></th>\n",
       "      <th>Train</th>\n",
       "      <th>Validation</th>\n",
       "    </tr>\n",
       "  </thead>\n",
       "  <tbody>\n",
       "    <tr>\n",
       "      <th>Lin Reg</th>\n",
       "      <td>32839</td>\n",
       "      <td>41194</td>\n",
       "    </tr>\n",
       "    <tr>\n",
       "      <th>Reg Tree</th>\n",
       "      <td>32839</td>\n",
       "      <td>41194</td>\n",
       "    </tr>\n",
       "    <tr>\n",
       "      <th>kNN</th>\n",
       "      <td>37461</td>\n",
       "      <td>43348</td>\n",
       "    </tr>\n",
       "  </tbody>\n",
       "</table>\n",
       "</div>"
      ],
      "text/plain": [
       "          Train  Validation\n",
       "Lin Reg   32839       41194\n",
       "Reg Tree  32839       41194\n",
       "kNN       37461       43348"
      ]
     },
     "execution_count": 244,
     "metadata": {},
     "output_type": "execute_result"
    }
   ],
   "source": [
    "#linear regression\n",
    "alphas = np.arange(.01, 25, .25)\n",
    "lasso_housing_model = LassoCV(alphas= alphas, cv=5, max_iter=50000)\n",
    "lasso_housing_model.fit(X_train, y_train)\n",
    "\n",
    "lasso_best = Lasso(alpha = lasso_housing_model.alpha_)\n",
    "lasso_best.fit(X_train, y_train)\n",
    "\n",
    "lin_train_rmse = round(rmse(y_train, lasso_best.predict(X_train)))\n",
    "lin_val_rmse = round(rmse(y_val, lasso_best.predict(X_val)))\n",
    "\n",
    "#max depth pruned tree\n",
    "tree_reg = DecisionTreeRegressor(max_depth=5, random_state = 0)\n",
    "tree_reg = tree_reg.fit(X_train, y_train)\n",
    "\n",
    "\n",
    "# Calculate RMSE for the best tree\n",
    "tree_train_rmse = round(rmse(y_train, tree_reg.predict(X_train)))\n",
    "tree_val_rmse = round(rmse(y_val, tree_reg.predict(X_val)))\n",
    "\n",
    "\n",
    "\n",
    "#knn\n",
    "\n",
    "knn = KNeighborsRegressor(n_neighbors=8)\n",
    "knn.fit(X_train, y_train)\n",
    "\n",
    "knn_train_rmse = round(rmse(y_train, knn.predict(X_train)))\n",
    "knn_val_rmse = round(rmse(y_val, knn.predict(X_val)))\n",
    "#Display the RMSEs\n",
    "\n",
    "pd.DataFrame([[lin_train_rmse,lin_val_rmse],[tree_train_rmse, tree_val_rmse],[knn_train_rmse,knn_val_rmse]], columns = ['Train','Validation'], index = ['Lin Reg', 'Reg Tree', 'kNN'])\n",
    "\n"
   ]
  },
  {
   "cell_type": "markdown",
   "id": "CbsIRylpkNKF",
   "metadata": {
    "id": "CbsIRylpkNKF"
   },
   "source": [
    "*Which model performs the best?*\n",
    "\n",
    "**Linear Regression performs better as there is no change in training & validation.**"
   ]
  },
  {
   "cell_type": "markdown",
   "id": "185ae3f7",
   "metadata": {
    "id": "185ae3f7"
   },
   "source": [
    "### 4.3\n",
    "*How reliable are your predictions?*"
   ]
  },
  {
   "cell_type": "code",
   "execution_count": 245,
   "id": "7591fabf",
   "metadata": {
    "id": "7591fabf"
   },
   "outputs": [
    {
     "data": {
      "image/png": "[encoded data removed]",
      "text/plain": [
       "<Figure size 432x288 with 1 Axes>"
      ]
     },
     "metadata": {
      "needs_background": "light"
     },
     "output_type": "display_data"
    },
    {
     "data": {
      "image/png": "[encoded data removed]",
      "text/plain": [
       "<Figure size 432x288 with 1 Axes>"
      ]
     },
     "metadata": {
      "needs_background": "light"
     },
     "output_type": "display_data"
    },
    {
     "data": {
      "image/png": "[encoded data removed]",
      "text/plain": [
       "<Figure size 432x288 with 1 Axes>"
      ]
     },
     "metadata": {
      "needs_background": "light"
     },
     "output_type": "display_data"
    }
   ],
   "source": [
    "#Plot a scatterplot of the predicted vs the true value of the SalePrice\n",
    "\n",
    "lasso_best = Lasso(alpha = lasso_housing_model.alpha_)\n",
    "lasso_best.fit(X_train, y_train)\n",
    "\n",
    "y_val_pred=lasso_best.predict(X_val)\n",
    "\n",
    "residuals_lasso = y_val - y_val_pred\n",
    "\n",
    "tree_reg = DecisionTreeRegressor(max_depth=5, random_state = 0)\n",
    "tree_reg = tree_reg.fit(X_train, y_train)\n",
    "\n",
    "y_val_pred=tree_reg.predict(X_val)\n",
    "\n",
    "residuals_tree = y_val - y_val_pred\n",
    "\n",
    "knn = KNeighborsRegressor(n_neighbors=8)\n",
    "knn.fit(X_train, y_train)\n",
    "\n",
    "y_val_pred=knn.predict(X_val)\n",
    "\n",
    "residuals_knn = y_val - y_val_pred\n",
    "\n",
    "plt.scatter(y_val, residuals_lasso)\n",
    "plt.xlabel(\"True SalePrice\")\n",
    "plt.ylabel(\"Residuals\")\n",
    "plt.title(\"Scatterplot of Residuals vs True SalePrice\")\n",
    "plt.show()\n",
    "\n",
    "plt.scatter(y_val, residuals_tree)\n",
    "plt.xlabel(\"True SalePrice\")\n",
    "plt.ylabel(\"Residuals\")\n",
    "plt.title(\"Scatterplot of Residuals vs True SalePrice\")\n",
    "plt.show()\n",
    "\n",
    "plt.scatter(y_val, residuals_knn)\n",
    "plt.xlabel(\"True SalePrice\")\n",
    "plt.ylabel(\"Residuals\")\n",
    "plt.title(\"Scatterplot of Residuals vs True SalePrice\")\n",
    "plt.show()"
   ]
  },
  {
   "cell_type": "markdown",
   "id": "66d9eaff",
   "metadata": {
    "id": "66d9eaff"
   },
   "source": [
    "*A histogram of errors could also give a good insight on any underlying patterns*"
   ]
  },
  {
   "cell_type": "code",
   "execution_count": 246,
   "id": "3b8777f8",
   "metadata": {
    "id": "3b8777f8"
   },
   "outputs": [
    {
     "data": {
      "image/png": "[encoded data removed]",
      "text/plain": [
       "<Figure size 432x288 with 1 Axes>"
      ]
     },
     "metadata": {
      "needs_background": "light"
     },
     "output_type": "display_data"
    },
    {
     "data": {
      "image/png": "[encoded data removed]",
      "text/plain": [
       "<Figure size 432x288 with 1 Axes>"
      ]
     },
     "metadata": {
      "needs_background": "light"
     },
     "output_type": "display_data"
    },
    {
     "data": {
      "image/png": "[encoded data removed]",
      "text/plain": [
       "<Figure size 432x288 with 1 Axes>"
      ]
     },
     "metadata": {
      "needs_background": "light"
     },
     "output_type": "display_data"
    }
   ],
   "source": [
    "#Plot a histogram of the residuals. \n",
    "\n",
    "lasso_best = Lasso(alpha = lasso_housing_model.alpha_)\n",
    "lasso_best.fit(X_train, y_train)\n",
    "\n",
    "y_val_pred=lasso_best.predict(X_val)\n",
    "\n",
    "residuals_lasso = y_val - y_val_pred\n",
    "\n",
    "tree_reg = DecisionTreeRegressor(max_depth=5, random_state = 0)\n",
    "tree_reg = tree_reg.fit(X_train, y_train)\n",
    "\n",
    "y_val_pred=tree_reg.predict(X_val)\n",
    "\n",
    "residuals_tree = y_val - y_val_pred\n",
    "\n",
    "knn = KNeighborsRegressor(n_neighbors=8)\n",
    "knn.fit(X_train, y_train)\n",
    "\n",
    "y_val_pred=knn.predict(X_val)\n",
    "\n",
    "residuals_knn = y_val - y_val_pred\n",
    "\n",
    "plt.hist(residuals_lasso, bins=20, edgecolor=\"black\")\n",
    "plt.xlabel('Residuals')\n",
    "plt.ylabel('Frequency')\n",
    "plt.title('Lasso Model Residual')\n",
    "plt.show()\n",
    "\n",
    "\n",
    "plt.hist(residuals_tree, bins=20,edgecolor=\"black\")\n",
    "plt.xlabel('Residuals')\n",
    "plt.ylabel('Frequency')\n",
    "plt.title('Regression Tree Residual')\n",
    "plt.show()\n",
    "\n",
    "plt.hist(residuals_knn, bins=20, edgecolor=\"black\")\n",
    "plt.xlabel('Residuals')\n",
    "plt.ylabel('Frequency')\n",
    "plt.title('kNN Model Residual')\n",
    "plt.show()"
   ]
  },
  {
   "cell_type": "code",
   "execution_count": null,
   "id": "4a070b84",
   "metadata": {
    "id": "4a070b84"
   },
   "outputs": [],
   "source": []
  }
 ],
 "metadata": {
  "colab": {
   "collapsed_sections": [],
   "name": "Housing_Case_Study_Stub.ipynb",
   "provenance": [],
   "toc_visible": true
  },
  "kernelspec": {
   "display_name": "Python 3 (ipykernel)",
   "language": "python",
   "name": "python3"
  },
  "language_info": {
   "codemirror_mode": {
    "name": "ipython",
    "version": 3
   },
   "file_extension": ".py",
   "mimetype": "text/x-python",
   "name": "python",
   "nbconvert_exporter": "python",
   "pygments_lexer": "ipython3",
   "version": "3.9.12"
  }
 },
 "nbformat": 4,
 "nbformat_minor": 5
}
